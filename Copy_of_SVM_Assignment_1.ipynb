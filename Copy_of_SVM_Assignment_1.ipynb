{
  "nbformat": 4,
  "nbformat_minor": 0,
  "metadata": {
    "colab": {
      "name": "Copy of SVM-Assignment-1.ipynb",
      "provenance": [],
      "collapsed_sections": []
    },
    "kernelspec": {
      "name": "python3",
      "display_name": "Python 3"
    }
  },
  "cells": [
    {
      "cell_type": "code",
      "metadata": {
        "id": "xxO9tyeJW4uh",
        "colab_type": "code",
        "colab": {}
      },
      "source": [
        "from sklearn import datasets"
      ],
      "execution_count": 45,
      "outputs": []
    },
    {
      "cell_type": "code",
      "metadata": {
        "id": "mjcU_PeeW8eU",
        "colab_type": "code",
        "colab": {}
      },
      "source": [
        "X, y =  datasets.make_blobs(n_samples=50, n_features=2, centers=2, cluster_std=1.05, random_state=40)"
      ],
      "execution_count": 46,
      "outputs": []
    },
    {
      "cell_type": "code",
      "metadata": {
        "id": "YFUgOrbIW-eF",
        "colab_type": "code",
        "colab": {}
      },
      "source": [
        "import numpy as np\n",
        "import matplotlib.pyplot as plt\n",
        "import seaborn as sns\n",
        "import pandas as pd"
      ],
      "execution_count": 47,
      "outputs": []
    },
    {
      "cell_type": "code",
      "metadata": {
        "id": "WyUdIxRDX-pH",
        "colab_type": "code",
        "colab": {}
      },
      "source": [
        "x=np.linspace(-10,10,100)"
      ],
      "execution_count": 48,
      "outputs": []
    },
    {
      "cell_type": "code",
      "metadata": {
        "id": "J9MZCZj-YDgH",
        "colab_type": "code",
        "colab": {}
      },
      "source": [
        "y1=-5*x+1"
      ],
      "execution_count": 49,
      "outputs": []
    },
    {
      "cell_type": "code",
      "metadata": {
        "id": "nGM1xxeMYy9n",
        "colab_type": "code",
        "colab": {}
      },
      "source": [
        "y2=-4*x+1"
      ],
      "execution_count": 50,
      "outputs": []
    },
    {
      "cell_type": "code",
      "metadata": {
        "id": "nZogsr9CXCra",
        "colab_type": "code",
        "colab": {
          "base_uri": "https://localhost:8080/",
          "height": 282
        },
        "outputId": "ccd5adeb-10d9-46b0-fae8-a69eb0460d90"
      },
      "source": [
        "plt.plot(x,y1)\n",
        "plt.plot(x,y2)\n",
        "sns.scatterplot(X.T[0],X.T[1],hue=y)"
      ],
      "execution_count": 51,
      "outputs": [
        {
          "output_type": "execute_result",
          "data": {
            "text/plain": [
              "<matplotlib.axes._subplots.AxesSubplot at 0x7f43ce714208>"
            ]
          },
          "metadata": {
            "tags": []
          },
          "execution_count": 51
        },
        {
          "output_type": "display_data",
          "data": {
            "image/png": "[encoded data removed]",
            "text/plain": [
              "<Figure size 432x288 with 1 Axes>"
            ]
          },
          "metadata": {
            "tags": [],
            "needs_background": "light"
          }
        }
      ]
    },
    {
      "cell_type": "markdown",
      "metadata": {
        "id": "U2pT8YqeZGPf",
        "colab_type": "text"
      },
      "source": [
        "Equation of the orange line:\n",
        "\n",
        "y=-4x+1\n",
        "\n",
        "Equation of the blue line:\n",
        "\n",
        "y=-5x+1\n",
        "\n",
        "You have to find out which line will act as a better classifier according to the SVM alsorithm and why?"
      ]
    },
    {
      "cell_type": "code",
      "metadata": {
        "id": "Wo3s1VCR1faK",
        "colab_type": "code",
        "colab": {
          "base_uri": "https://localhost:8080/",
          "height": 356
        },
        "outputId": "6cc1ebaf-3642-4b37-bf8f-2669a2150389"
      },
      "source": [
        "data = pd.DataFrame(data=X,columns=['x1','x2'])\n",
        "data['y'] = y\n",
        "data.head(10)"
      ],
      "execution_count": 52,
      "outputs": [
        {
          "output_type": "execute_result",
          "data": {
            "text/html": [
              "<div>\n",
              "<style scoped>\n",
              "    .dataframe tbody tr th:only-of-type {\n",
              "        vertical-align: middle;\n",
              "    }\n",
              "\n",
              "    .dataframe tbody tr th {\n",
              "        vertical-align: top;\n",
              "    }\n",
              "\n",
              "    .dataframe thead th {\n",
              "        text-align: right;\n",
              "    }\n",
              "</style>\n",
              "<table border=\"1\" class=\"dataframe\">\n",
              "  <thead>\n",
              "    <tr style=\"text-align: right;\">\n",
              "      <th></th>\n",
              "      <th>x1</th>\n",
              "      <th>x2</th>\n",
              "      <th>y</th>\n",
              "    </tr>\n",
              "  </thead>\n",
              "  <tbody>\n",
              "    <tr>\n",
              "      <th>0</th>\n",
              "      <td>7.127313</td>\n",
              "      <td>-4.439442</td>\n",
              "      <td>1</td>\n",
              "    </tr>\n",
              "    <tr>\n",
              "      <th>1</th>\n",
              "      <td>6.688739</td>\n",
              "      <td>-2.448401</td>\n",
              "      <td>1</td>\n",
              "    </tr>\n",
              "    <tr>\n",
              "      <th>2</th>\n",
              "      <td>-1.100479</td>\n",
              "      <td>-7.784368</td>\n",
              "      <td>0</td>\n",
              "    </tr>\n",
              "    <tr>\n",
              "      <th>3</th>\n",
              "      <td>3.993379</td>\n",
              "      <td>-4.904513</td>\n",
              "      <td>1</td>\n",
              "    </tr>\n",
              "    <tr>\n",
              "      <th>4</th>\n",
              "      <td>-1.817162</td>\n",
              "      <td>-9.229099</td>\n",
              "      <td>0</td>\n",
              "    </tr>\n",
              "    <tr>\n",
              "      <th>5</th>\n",
              "      <td>-2.055219</td>\n",
              "      <td>-10.231412</td>\n",
              "      <td>0</td>\n",
              "    </tr>\n",
              "    <tr>\n",
              "      <th>6</th>\n",
              "      <td>4.203977</td>\n",
              "      <td>-3.611647</td>\n",
              "      <td>1</td>\n",
              "    </tr>\n",
              "    <tr>\n",
              "      <th>7</th>\n",
              "      <td>-0.218046</td>\n",
              "      <td>-9.219627</td>\n",
              "      <td>0</td>\n",
              "    </tr>\n",
              "    <tr>\n",
              "      <th>8</th>\n",
              "      <td>5.193276</td>\n",
              "      <td>-6.388451</td>\n",
              "      <td>1</td>\n",
              "    </tr>\n",
              "    <tr>\n",
              "      <th>9</th>\n",
              "      <td>-1.836821</td>\n",
              "      <td>-8.219521</td>\n",
              "      <td>0</td>\n",
              "    </tr>\n",
              "  </tbody>\n",
              "</table>\n",
              "</div>"
            ],
            "text/plain": [
              "         x1         x2  y\n",
              "0  7.127313  -4.439442  1\n",
              "1  6.688739  -2.448401  1\n",
              "2 -1.100479  -7.784368  0\n",
              "3  3.993379  -4.904513  1\n",
              "4 -1.817162  -9.229099  0\n",
              "5 -2.055219 -10.231412  0\n",
              "6  4.203977  -3.611647  1\n",
              "7 -0.218046  -9.219627  0\n",
              "8  5.193276  -6.388451  1\n",
              "9 -1.836821  -8.219521  0"
            ]
          },
          "metadata": {
            "tags": []
          },
          "execution_count": 52
        }
      ]
    },
    {
      "cell_type": "code",
      "metadata": {
        "id": "iw_VIl0z17fJ",
        "colab_type": "code",
        "colab": {}
      },
      "source": [
        "class1,class2 = list(data[data.y==1][['x1','x2']].values),list(data[data.y==0][['x1','x2']].values)\n",
        "\n",
        "# Function to find d for both the lines\n",
        "def d_calc(data=data,line=1):\n",
        "  res = 0\n",
        "  # Lines : y = -5x + 1 ; y = -4x + 1\n",
        "  # For the first line(blue)\n",
        "  if line == 1:\n",
        "    c1,c2 = [],[]\n",
        "    # Support vector for class1(y=1)\n",
        "    for i in range(len(class1)):\n",
        "      dist = abs((class1[i][1] + (5*class1[i][0]) - 1))/np.sqrt((5)**2 + 1**2)\n",
        "      c1.append(dist)\n",
        "    # Support vector for class2(y=0)\n",
        "    for i in range(len(class2)):\n",
        "      dist = abs((class2[i][1] + (5*class2[i][0]) - 1))/np.sqrt((5)**2 + 1**2)\n",
        "      c2.append(dist)\n",
        "    res = min(c1) + min(c2)\n",
        "  if line == 2:\n",
        "    c1,c2 = [],[]\n",
        "    # Support vector for class1(y=1)\n",
        "    for i in range(len(class1)):\n",
        "      dist = abs((class1[i][1] + (4*class1[i][0]) - 1))/np.sqrt((4)**2 + 1**2)\n",
        "      c1.append(dist)\n",
        "    # Support vector for class2(y=0)\n",
        "    for i in range(len(class2)):\n",
        "      dist = abs((class2[i][1] + (4*class2[i][0]) - 1))/np.sqrt((4)**2 + 1**2)\n",
        "      c2.append(dist)\n",
        "    res = min(c1) + min(c2)\n",
        "  return res\n",
        "\n",
        "# Function to decide the svm decision boundary\n",
        "def svm_bound(data=data):\n",
        "  d1 = d_calc(data,line=1)\n",
        "  d2 = d_calc(data,line=2)\n",
        "  if d1 > d2:\n",
        "    return \"blue\"\n",
        "  else:\n",
        "    return \"orange\""
      ],
      "execution_count": 53,
      "outputs": []
    },
    {
      "cell_type": "code",
      "metadata": {
        "id": "eAY_A9Zf24dg",
        "colab_type": "code",
        "colab": {
          "base_uri": "https://localhost:8080/",
          "height": 34
        },
        "outputId": "cb204e6c-8fbd-44d7-8067-998b68b28a52"
      },
      "source": [
        "line_color = svm_bound(data=data)\n",
        "print(\"The {} line is a better classifier\".format(line_color.upper()))"
      ],
      "execution_count": 54,
      "outputs": [
        {
          "output_type": "stream",
          "text": [
            "The ORANGE line is a better classifier\n"
          ],
          "name": "stdout"
        }
      ]
    },
    {
      "cell_type": "markdown",
      "metadata": {
        "id": "mn0yiFAuScdg",
        "colab_type": "text"
      },
      "source": [
        "## Reason of this result :\n",
        "According to the function svm_bound(), the maximal thresholds for both the lines are calculated. *The function returns the color of the line for which the value of maximal threshold is maximum.*\n",
        "\n",
        "Since the function returns \"*orange*\", hence we can conclude that :\n",
        "\n",
        "***The maximal threshold of Orange line > maximal threshold of Blue line.***\n",
        "\n",
        "So, *the orange line is a better classifier.*"
      ]
    }
  ]
}